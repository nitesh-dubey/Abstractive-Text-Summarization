{
  "nbformat": 4,
  "nbformat_minor": 0,
  "metadata": {
    "colab": {
      "name": "Abstractive Text Summarization.ipynb",
      "provenance": [],
      "collapsed_sections": [],
      "authorship_tag": "ABX9TyOgcG4onHhZz84dvV6FXkIL",
      "include_colab_link": true
    },
    "kernelspec": {
      "name": "python3",
      "display_name": "Python 3"
    },
    "accelerator": "GPU"
  },
  "cells": [
    {
      "cell_type": "markdown",
      "metadata": {
        "id": "view-in-github",
        "colab_type": "text"
      },
      "source": [
        "<a href=\"https://colab.research.google.com/github/nitesh-dubey/Abstractive-Text-Summarization/blob/master/Abstractive_Text_Summarization.ipynb\" target=\"_parent\"><img src=\"https://colab.research.google.com/assets/colab-badge.svg\" alt=\"Open In Colab\"/></a>"
      ]
    },
    {
      "cell_type": "markdown",
      "metadata": {
        "id": "iOu3hpGhZG5C",
        "colab_type": "text"
      },
      "source": [
        "# Abstractive Text Summarization\n",
        " \n",
        "***Nitesh Dubey - IIIT Guwahati***"
      ]
    },
    {
      "cell_type": "markdown",
      "metadata": {
        "id": "B7wjiPRObg5h",
        "colab_type": "text"
      },
      "source": [
        "In This notebook we use Amazon Food Reviews Dataset to train *Abstractive Text Summarization* model, to output the summary of give reviews."
      ]
    },
    {
      "cell_type": "code",
      "metadata": {
        "id": "665T01xebUdO",
        "colab_type": "code",
        "outputId": "3aead834-54f8-48b8-e048-30ed96944062",
        "colab": {
          "base_uri": "https://localhost:8080/",
          "height": 34
        }
      },
      "source": [
        "# Dataset used = Amazon Fine Food Reviews dataset\n",
        "# link = 'https://www.kaggle.com/snap/amazon-fine-food-reviews'\n",
        "\n",
        "from google.colab import drive\n",
        "drive.mount('/content/gdrive')\n",
        "dir_path = '/content/gdrive/My Drive/Colab Notebooks/Abstractive Text Summarization/'"
      ],
      "execution_count": 1,
      "outputs": [
        {
          "output_type": "stream",
          "text": [
            "Drive already mounted at /content/gdrive; to attempt to forcibly remount, call drive.mount(\"/content/gdrive\", force_remount=True).\n"
          ],
          "name": "stdout"
        }
      ]
    },
    {
      "cell_type": "code",
      "metadata": {
        "id": "3iskCx5TRAdC",
        "colab_type": "code",
        "outputId": "3e19567e-82b8-4aae-8a5a-ce10827c18f7",
        "colab": {
          "base_uri": "https://localhost:8080/",
          "height": 80
        }
      },
      "source": [
        "# !pip uninstall tensorflow\n",
        "# !pip install tensorflow==2.0.0-beta1\n",
        "import tensorflow as tf\n",
        "print(tf.__version__)"
      ],
      "execution_count": 2,
      "outputs": [
        {
          "output_type": "display_data",
          "data": {
            "text/html": [
              "<p style=\"color: red;\">\n",
              "The default version of TensorFlow in Colab will soon switch to TensorFlow 2.x.<br>\n",
              "We recommend you <a href=\"https://www.tensorflow.org/guide/migrate\" target=\"_blank\">upgrade</a> now \n",
              "or ensure your notebook will continue to use TensorFlow 1.x via the <code>%tensorflow_version 1.x</code> magic:\n",
              "<a href=\"https://colab.research.google.com/notebooks/tensorflow_version.ipynb\" target=\"_blank\">more info</a>.</p>\n"
            ],
            "text/plain": [
              "<IPython.core.display.HTML object>"
            ]
          },
          "metadata": {
            "tags": []
          }
        },
        {
          "output_type": "stream",
          "text": [
            "1.15.0\n"
          ],
          "name": "stdout"
        }
      ]
    },
    {
      "cell_type": "code",
      "metadata": {
        "id": "IjVqT-ykMkBu",
        "colab_type": "code",
        "outputId": "3e6b743e-1e1a-4a92-a8ce-3b37de3a9cc6",
        "colab": {
          "base_uri": "https://localhost:8080/",
          "height": 68
        }
      },
      "source": [
        "import nltk\n",
        "nltk.download('stopwords')"
      ],
      "execution_count": 3,
      "outputs": [
        {
          "output_type": "stream",
          "text": [
            "[nltk_data] Downloading package stopwords to /root/nltk_data...\n",
            "[nltk_data]   Package stopwords is already up-to-date!\n"
          ],
          "name": "stdout"
        },
        {
          "output_type": "execute_result",
          "data": {
            "text/plain": [
              "True"
            ]
          },
          "metadata": {
            "tags": []
          },
          "execution_count": 3
        }
      ]
    },
    {
      "cell_type": "code",
      "metadata": {
        "id": "GcDwJb8TffSn",
        "colab_type": "code",
        "colab": {}
      },
      "source": [
        "import pandas as pd\n",
        "import numpy as np\n",
        "import matplotlib.pyplot as plt\n",
        "%matplotlib inline\n",
        "import h5py\n",
        "import re\n",
        "from bs4 import BeautifulSoup\n",
        "from nltk.corpus import stopwords\n",
        "from tensorflow.keras.preprocessing.text import Tokenizer\n",
        "from tensorflow.keras.preprocessing.sequence import pad_sequences\n",
        "from tensorflow.keras.layers import Input, LSTM, Embedding, Dense, Bidirectional, Concatenate\n",
        "from tensorflow.keras.layers import TimeDistributed, BatchNormalization, Dropout \n",
        "from tensorflow.keras.models import Model\n",
        "from tensorflow.keras.callbacks import EarlyStopping\n",
        "import warnings\n",
        "warnings.filterwarnings('ignore')\n",
        "\n",
        "import os\n",
        "import logging\n",
        "os.environ['TF_CPP_MIN_LOG_LEVEL'] = '3'\n",
        "logging.getLogger('tensorflow').setLevel(logging.CRITICAL)"
      ],
      "execution_count": 0,
      "outputs": []
    },
    {
      "cell_type": "code",
      "metadata": {
        "id": "H9hz--SYl4AR",
        "colab_type": "code",
        "outputId": "00f61d1d-8aa6-440b-9ce8-12ff36fccce7",
        "colab": {
          "base_uri": "https://localhost:8080/",
          "height": 359
        }
      },
      "source": [
        "df = pd.read_csv(dir_path + 'Reviews.csv', nrows = 150000)\n",
        "df.head(10)"
      ],
      "execution_count": 5,
      "outputs": [
        {
          "output_type": "execute_result",
          "data": {
            "text/html": [
              "<div>\n",
              "<style scoped>\n",
              "    .dataframe tbody tr th:only-of-type {\n",
              "        vertical-align: middle;\n",
              "    }\n",
              "\n",
              "    .dataframe tbody tr th {\n",
              "        vertical-align: top;\n",
              "    }\n",
              "\n",
              "    .dataframe thead th {\n",
              "        text-align: right;\n",
              "    }\n",
              "</style>\n",
              "<table border=\"1\" class=\"dataframe\">\n",
              "  <thead>\n",
              "    <tr style=\"text-align: right;\">\n",
              "      <th></th>\n",
              "      <th>Id</th>\n",
              "      <th>ProductId</th>\n",
              "      <th>UserId</th>\n",
              "      <th>ProfileName</th>\n",
              "      <th>HelpfulnessNumerator</th>\n",
              "      <th>HelpfulnessDenominator</th>\n",
              "      <th>Score</th>\n",
              "      <th>Time</th>\n",
              "      <th>Summary</th>\n",
              "      <th>Text</th>\n",
              "    </tr>\n",
              "  </thead>\n",
              "  <tbody>\n",
              "    <tr>\n",
              "      <th>0</th>\n",
              "      <td>1</td>\n",
              "      <td>B001E4KFG0</td>\n",
              "      <td>A3SGXH7AUHU8GW</td>\n",
              "      <td>delmartian</td>\n",
              "      <td>1</td>\n",
              "      <td>1</td>\n",
              "      <td>5</td>\n",
              "      <td>1303862400</td>\n",
              "      <td>Good Quality Dog Food</td>\n",
              "      <td>I have bought several of the Vitality canned d...</td>\n",
              "    </tr>\n",
              "    <tr>\n",
              "      <th>1</th>\n",
              "      <td>2</td>\n",
              "      <td>B00813GRG4</td>\n",
              "      <td>A1D87F6ZCVE5NK</td>\n",
              "      <td>dll pa</td>\n",
              "      <td>0</td>\n",
              "      <td>0</td>\n",
              "      <td>1</td>\n",
              "      <td>1346976000</td>\n",
              "      <td>Not as Advertised</td>\n",
              "      <td>Product arrived labeled as Jumbo Salted Peanut...</td>\n",
              "    </tr>\n",
              "    <tr>\n",
              "      <th>2</th>\n",
              "      <td>3</td>\n",
              "      <td>B000LQOCH0</td>\n",
              "      <td>ABXLMWJIXXAIN</td>\n",
              "      <td>Natalia Corres \"Natalia Corres\"</td>\n",
              "      <td>1</td>\n",
              "      <td>1</td>\n",
              "      <td>4</td>\n",
              "      <td>1219017600</td>\n",
              "      <td>\"Delight\" says it all</td>\n",
              "      <td>This is a confection that has been around a fe...</td>\n",
              "    </tr>\n",
              "    <tr>\n",
              "      <th>3</th>\n",
              "      <td>4</td>\n",
              "      <td>B000UA0QIQ</td>\n",
              "      <td>A395BORC6FGVXV</td>\n",
              "      <td>Karl</td>\n",
              "      <td>3</td>\n",
              "      <td>3</td>\n",
              "      <td>2</td>\n",
              "      <td>1307923200</td>\n",
              "      <td>Cough Medicine</td>\n",
              "      <td>If you are looking for the secret ingredient i...</td>\n",
              "    </tr>\n",
              "    <tr>\n",
              "      <th>4</th>\n",
              "      <td>5</td>\n",
              "      <td>B006K2ZZ7K</td>\n",
              "      <td>A1UQRSCLF8GW1T</td>\n",
              "      <td>Michael D. Bigham \"M. Wassir\"</td>\n",
              "      <td>0</td>\n",
              "      <td>0</td>\n",
              "      <td>5</td>\n",
              "      <td>1350777600</td>\n",
              "      <td>Great taffy</td>\n",
              "      <td>Great taffy at a great price.  There was a wid...</td>\n",
              "    </tr>\n",
              "    <tr>\n",
              "      <th>5</th>\n",
              "      <td>6</td>\n",
              "      <td>B006K2ZZ7K</td>\n",
              "      <td>ADT0SRK1MGOEU</td>\n",
              "      <td>Twoapennything</td>\n",
              "      <td>0</td>\n",
              "      <td>0</td>\n",
              "      <td>4</td>\n",
              "      <td>1342051200</td>\n",
              "      <td>Nice Taffy</td>\n",
              "      <td>I got a wild hair for taffy and ordered this f...</td>\n",
              "    </tr>\n",
              "    <tr>\n",
              "      <th>6</th>\n",
              "      <td>7</td>\n",
              "      <td>B006K2ZZ7K</td>\n",
              "      <td>A1SP2KVKFXXRU1</td>\n",
              "      <td>David C. Sullivan</td>\n",
              "      <td>0</td>\n",
              "      <td>0</td>\n",
              "      <td>5</td>\n",
              "      <td>1340150400</td>\n",
              "      <td>Great!  Just as good as the expensive brands!</td>\n",
              "      <td>This saltwater taffy had great flavors and was...</td>\n",
              "    </tr>\n",
              "    <tr>\n",
              "      <th>7</th>\n",
              "      <td>8</td>\n",
              "      <td>B006K2ZZ7K</td>\n",
              "      <td>A3JRGQVEQN31IQ</td>\n",
              "      <td>Pamela G. Williams</td>\n",
              "      <td>0</td>\n",
              "      <td>0</td>\n",
              "      <td>5</td>\n",
              "      <td>1336003200</td>\n",
              "      <td>Wonderful, tasty taffy</td>\n",
              "      <td>This taffy is so good.  It is very soft and ch...</td>\n",
              "    </tr>\n",
              "    <tr>\n",
              "      <th>8</th>\n",
              "      <td>9</td>\n",
              "      <td>B000E7L2R4</td>\n",
              "      <td>A1MZYO9TZK0BBI</td>\n",
              "      <td>R. James</td>\n",
              "      <td>1</td>\n",
              "      <td>1</td>\n",
              "      <td>5</td>\n",
              "      <td>1322006400</td>\n",
              "      <td>Yay Barley</td>\n",
              "      <td>Right now I'm mostly just sprouting this so my...</td>\n",
              "    </tr>\n",
              "    <tr>\n",
              "      <th>9</th>\n",
              "      <td>10</td>\n",
              "      <td>B00171APVA</td>\n",
              "      <td>A21BT40VZCCYT4</td>\n",
              "      <td>Carol A. Reed</td>\n",
              "      <td>0</td>\n",
              "      <td>0</td>\n",
              "      <td>5</td>\n",
              "      <td>1351209600</td>\n",
              "      <td>Healthy Dog Food</td>\n",
              "      <td>This is a very healthy dog food. Good for thei...</td>\n",
              "    </tr>\n",
              "  </tbody>\n",
              "</table>\n",
              "</div>"
            ],
            "text/plain": [
              "   Id  ...                                               Text\n",
              "0   1  ...  I have bought several of the Vitality canned d...\n",
              "1   2  ...  Product arrived labeled as Jumbo Salted Peanut...\n",
              "2   3  ...  This is a confection that has been around a fe...\n",
              "3   4  ...  If you are looking for the secret ingredient i...\n",
              "4   5  ...  Great taffy at a great price.  There was a wid...\n",
              "5   6  ...  I got a wild hair for taffy and ordered this f...\n",
              "6   7  ...  This saltwater taffy had great flavors and was...\n",
              "7   8  ...  This taffy is so good.  It is very soft and ch...\n",
              "8   9  ...  Right now I'm mostly just sprouting this so my...\n",
              "9  10  ...  This is a very healthy dog food. Good for thei...\n",
              "\n",
              "[10 rows x 10 columns]"
            ]
          },
          "metadata": {
            "tags": []
          },
          "execution_count": 5
        }
      ]
    },
    {
      "cell_type": "code",
      "metadata": {
        "id": "i2D8qsdIOEWB",
        "colab_type": "code",
        "colab": {}
      },
      "source": [
        "df = df[['Text', 'Summary']]\n",
        "df.drop_duplicates(subset = ['Text'], inplace = True)\n",
        "df.dropna(axis = 0, inplace = True)"
      ],
      "execution_count": 0,
      "outputs": []
    },
    {
      "cell_type": "markdown",
      "metadata": {
        "id": "tgtK1iIQPJcM",
        "colab_type": "text"
      },
      "source": [
        "# Data Preprocessing"
      ]
    },
    {
      "cell_type": "code",
      "metadata": {
        "id": "hubqBYMoOw3-",
        "colab_type": "code",
        "colab": {}
      },
      "source": [
        "# Taken from Stack Overflow\n",
        "\n",
        "contraction_mapping = {\"ain't\": \"is not\", \"aren't\": \"are not\",\"can't\": \"cannot\", \"'cause\": \"because\", \"could've\": \"could have\", \"couldn't\": \"could not\",\n",
        "\n",
        "                           \"didn't\": \"did not\", \"doesn't\": \"does not\", \"don't\": \"do not\", \"hadn't\": \"had not\", \"hasn't\": \"has not\", \"haven't\": \"have not\",\n",
        "\n",
        "                           \"he'd\": \"he would\",\"he'll\": \"he will\", \"he's\": \"he is\", \"how'd\": \"how did\", \"how'd'y\": \"how do you\", \"how'll\": \"how will\", \"how's\": \"how is\",\n",
        "\n",
        "                           \"I'd\": \"I would\", \"I'd've\": \"I would have\", \"I'll\": \"I will\", \"I'll've\": \"I will have\",\"I'm\": \"I am\", \"I've\": \"I have\", \"i'd\": \"i would\",\n",
        "\n",
        "                           \"i'd've\": \"i would have\", \"i'll\": \"i will\",  \"i'll've\": \"i will have\",\"i'm\": \"i am\", \"i've\": \"i have\", \"isn't\": \"is not\", \"it'd\": \"it would\",\n",
        "\n",
        "                           \"it'd've\": \"it would have\", \"it'll\": \"it will\", \"it'll've\": \"it will have\",\"it's\": \"it is\", \"let's\": \"let us\", \"ma'am\": \"madam\",\n",
        "\n",
        "                           \"mayn't\": \"may not\", \"might've\": \"might have\",\"mightn't\": \"might not\",\"mightn't've\": \"might not have\", \"must've\": \"must have\",\n",
        "\n",
        "                           \"mustn't\": \"must not\", \"mustn't've\": \"must not have\", \"needn't\": \"need not\", \"needn't've\": \"need not have\",\"o'clock\": \"of the clock\",\n",
        "\n",
        "                           \"oughtn't\": \"ought not\", \"oughtn't've\": \"ought not have\", \"shan't\": \"shall not\", \"sha'n't\": \"shall not\", \"shan't've\": \"shall not have\",\n",
        "\n",
        "                           \"she'd\": \"she would\", \"she'd've\": \"she would have\", \"she'll\": \"she will\", \"she'll've\": \"she will have\", \"she's\": \"she is\",\n",
        "\n",
        "                           \"should've\": \"should have\", \"shouldn't\": \"should not\", \"shouldn't've\": \"should not have\", \"so've\": \"so have\",\"so's\": \"so as\",\n",
        "\n",
        "                           \"this's\": \"this is\",\"that'd\": \"that would\", \"that'd've\": \"that would have\", \"that's\": \"that is\", \"there'd\": \"there would\",\n",
        "\n",
        "                           \"there'd've\": \"there would have\", \"there's\": \"there is\", \"here's\": \"here is\",\"they'd\": \"they would\", \"they'd've\": \"they would have\",\n",
        "\n",
        "                           \"they'll\": \"they will\", \"they'll've\": \"they will have\", \"they're\": \"they are\", \"they've\": \"they have\", \"to've\": \"to have\",\n",
        "\n",
        "                           \"wasn't\": \"was not\", \"we'd\": \"we would\", \"we'd've\": \"we would have\", \"we'll\": \"we will\", \"we'll've\": \"we will have\", \"we're\": \"we are\",\n",
        "\n",
        "                           \"we've\": \"we have\", \"weren't\": \"were not\", \"what'll\": \"what will\", \"what'll've\": \"what will have\", \"what're\": \"what are\",\n",
        "\n",
        "                           \"what's\": \"what is\", \"what've\": \"what have\", \"when's\": \"when is\", \"when've\": \"when have\", \"where'd\": \"where did\", \"where's\": \"where is\",\n",
        "\n",
        "                           \"where've\": \"where have\", \"who'll\": \"who will\", \"who'll've\": \"who will have\", \"who's\": \"who is\", \"who've\": \"who have\",\n",
        "\n",
        "                           \"why's\": \"why is\", \"why've\": \"why have\", \"will've\": \"will have\", \"won't\": \"will not\", \"won't've\": \"will not have\",\n",
        "\n",
        "                           \"would've\": \"would have\", \"wouldn't\": \"would not\", \"wouldn't've\": \"would not have\", \"y'all\": \"you all\",\n",
        "\n",
        "                           \"y'all'd\": \"you all would\",\"y'all'd've\": \"you all would have\",\"y'all're\": \"you all are\",\"y'all've\": \"you all have\",\n",
        "\n",
        "                           \"you'd\": \"you would\", \"you'd've\": \"you would have\", \"you'll\": \"you will\", \"you'll've\": \"you will have\",\n",
        "\n",
        "                           \"you're\": \"you are\", \"you've\": \"you have\"}\n"
      ],
      "execution_count": 0,
      "outputs": []
    },
    {
      "cell_type": "code",
      "metadata": {
        "id": "KGuu6dqxQHhH",
        "colab_type": "code",
        "colab": {}
      },
      "source": [
        "def clean_text(text):\n",
        "  cleantext = text.lower()\n",
        "  cleantext = BeautifulSoup(cleantext, 'lxml').text\n",
        "  cleantext = re.sub(r'\\([^)]*\\)', '', cleantext)\n",
        "  cleantext = \" \".join([contraction_mapping[x] if x in contraction_mapping else x for x in cleantext.split()])\n",
        "  cleantext = re.sub(r\"'s\\b\", '', cleantext)\n",
        "  cleantext = re.sub('\"','',cleantext)\n",
        "  cleantext = re.sub(r\"[^a-zA-Z]\", \" \", cleantext)\n",
        "  cleantext = \" \".join([x for x in cleantext.split() if x not in set(stopwords.words('english'))])\n",
        "  cleantext = \" \".join([x for x in cleantext.split() if len(x) >= 3])\n",
        "  return cleantext\n"
      ],
      "execution_count": 0,
      "outputs": []
    },
    {
      "cell_type": "code",
      "metadata": {
        "id": "fKdmEu1jvhnv",
        "colab_type": "code",
        "colab": {}
      },
      "source": [
        "def clean_summary(suma):\n",
        "  suma = suma.lower()\n",
        "  suma = BeautifulSoup(suma, 'lxml').text\n",
        "  suma = re.sub(r'\\([^)]*\\)', '', suma)\n",
        "  suma = \" \".join([contraction_mapping[x] if x in contraction_mapping else x for x in suma.split()])\n",
        "  suma = re.sub(r\"\\'s\\b\", \"\", suma)\n",
        "  suma = re.sub(r\"[^a-zA-Z]\", \" \", suma)\n",
        "  suma = \" \".join(suma.split())\n",
        "  if suma == \"\":\n",
        "    suma = np.nan\n",
        "  else:\n",
        "    suma = \"<start> \" + suma + \" <end>\"\n",
        "  return suma"
      ],
      "execution_count": 0,
      "outputs": []
    },
    {
      "cell_type": "code",
      "metadata": {
        "id": "-fpNUvyNvwUx",
        "colab_type": "code",
        "outputId": "2072c698-93a1-42cb-cd4b-94ce9885016d",
        "colab": {
          "base_uri": "https://localhost:8080/",
          "height": 359
        }
      },
      "source": [
        "# Cleaning And Saving the Cleaned data drive\n",
        "\n",
        "# df['Text'] = df['Text'].apply(lambda x : clean_text(x))\n",
        "# df['Summary'] = df['Summary'].apply(lambda x : clean_summary(x))\n",
        "# df.dropna(axis = 0, inplace = True)\n",
        "# df.to_csv(dir_path + 'cleaned_reviews.csv')\n",
        "\n",
        "#Loading cleaned dataset\n",
        "df = pd.read_csv(dir_path + 'cleaned_reviews.csv')\n",
        "\n",
        "df.head(10)"
      ],
      "execution_count": 10,
      "outputs": [
        {
          "output_type": "execute_result",
          "data": {
            "text/html": [
              "<div>\n",
              "<style scoped>\n",
              "    .dataframe tbody tr th:only-of-type {\n",
              "        vertical-align: middle;\n",
              "    }\n",
              "\n",
              "    .dataframe tbody tr th {\n",
              "        vertical-align: top;\n",
              "    }\n",
              "\n",
              "    .dataframe thead th {\n",
              "        text-align: right;\n",
              "    }\n",
              "</style>\n",
              "<table border=\"1\" class=\"dataframe\">\n",
              "  <thead>\n",
              "    <tr style=\"text-align: right;\">\n",
              "      <th></th>\n",
              "      <th>Unnamed: 0</th>\n",
              "      <th>Text</th>\n",
              "      <th>Summary</th>\n",
              "    </tr>\n",
              "  </thead>\n",
              "  <tbody>\n",
              "    <tr>\n",
              "      <th>0</th>\n",
              "      <td>0</td>\n",
              "      <td>bought several vitality canned dog food produc...</td>\n",
              "      <td>&lt;start&gt; good quality dog food &lt;end&gt;</td>\n",
              "    </tr>\n",
              "    <tr>\n",
              "      <th>1</th>\n",
              "      <td>1</td>\n",
              "      <td>product arrived labeled jumbo salted peanuts p...</td>\n",
              "      <td>&lt;start&gt; not as advertised &lt;end&gt;</td>\n",
              "    </tr>\n",
              "    <tr>\n",
              "      <th>2</th>\n",
              "      <td>2</td>\n",
              "      <td>confection around centuries light pillowy citr...</td>\n",
              "      <td>&lt;start&gt; delight says it all &lt;end&gt;</td>\n",
              "    </tr>\n",
              "    <tr>\n",
              "      <th>3</th>\n",
              "      <td>3</td>\n",
              "      <td>looking secret ingredient robitussin believe f...</td>\n",
              "      <td>&lt;start&gt; cough medicine &lt;end&gt;</td>\n",
              "    </tr>\n",
              "    <tr>\n",
              "      <th>4</th>\n",
              "      <td>4</td>\n",
              "      <td>great taffy great price wide assortment yummy ...</td>\n",
              "      <td>&lt;start&gt; great taffy &lt;end&gt;</td>\n",
              "    </tr>\n",
              "    <tr>\n",
              "      <th>5</th>\n",
              "      <td>5</td>\n",
              "      <td>got wild hair taffy ordered five pound bag taf...</td>\n",
              "      <td>&lt;start&gt; nice taffy &lt;end&gt;</td>\n",
              "    </tr>\n",
              "    <tr>\n",
              "      <th>6</th>\n",
              "      <td>6</td>\n",
              "      <td>saltwater taffy great flavors soft chewy candy...</td>\n",
              "      <td>&lt;start&gt; great just as good as the expensive br...</td>\n",
              "    </tr>\n",
              "    <tr>\n",
              "      <th>7</th>\n",
              "      <td>7</td>\n",
              "      <td>taffy good soft chewy flavors amazing would de...</td>\n",
              "      <td>&lt;start&gt; wonderful tasty taffy &lt;end&gt;</td>\n",
              "    </tr>\n",
              "    <tr>\n",
              "      <th>8</th>\n",
              "      <td>8</td>\n",
              "      <td>right mostly sprouting cats eat grass love rot...</td>\n",
              "      <td>&lt;start&gt; yay barley &lt;end&gt;</td>\n",
              "    </tr>\n",
              "    <tr>\n",
              "      <th>9</th>\n",
              "      <td>9</td>\n",
              "      <td>healthy dog food good digestion also good smal...</td>\n",
              "      <td>&lt;start&gt; healthy dog food &lt;end&gt;</td>\n",
              "    </tr>\n",
              "  </tbody>\n",
              "</table>\n",
              "</div>"
            ],
            "text/plain": [
              "   Unnamed: 0  ...                                            Summary\n",
              "0           0  ...                <start> good quality dog food <end>\n",
              "1           1  ...                    <start> not as advertised <end>\n",
              "2           2  ...                  <start> delight says it all <end>\n",
              "3           3  ...                       <start> cough medicine <end>\n",
              "4           4  ...                          <start> great taffy <end>\n",
              "5           5  ...                           <start> nice taffy <end>\n",
              "6           6  ...  <start> great just as good as the expensive br...\n",
              "7           7  ...                <start> wonderful tasty taffy <end>\n",
              "8           8  ...                           <start> yay barley <end>\n",
              "9           9  ...                     <start> healthy dog food <end>\n",
              "\n",
              "[10 rows x 3 columns]"
            ]
          },
          "metadata": {
            "tags": []
          },
          "execution_count": 10
        }
      ]
    },
    {
      "cell_type": "markdown",
      "metadata": {
        "id": "Mw5GwaBU0Mte",
        "colab_type": "text"
      },
      "source": [
        "# Analyzing the Data"
      ]
    },
    {
      "cell_type": "code",
      "metadata": {
        "id": "O6TCVqS20dfY",
        "colab_type": "code",
        "outputId": "8fa85c34-a002-430e-ef84-5f7d37b7633e",
        "colab": {
          "base_uri": "https://localhost:8080/",
          "height": 607
        }
      },
      "source": [
        "plt.rcParams['figure.figsize'] = (22,10)\n",
        "def analyze(data):\n",
        "  textlen, sumalen = [],[]\n",
        "  for i in range(data.shape[0]):\n",
        "    textlen.append(len(data.iloc[i]['Text'].split()))\n",
        "    sumalen.append(len(data.iloc[i]['Summary'].split()))\n",
        "  egsize = pd.DataFrame({'Textlen' : textlen, 'Summarylen' : sumalen})\n",
        "  egsize.hist(bins = 50)\n",
        "\n",
        "analyze(df)"
      ],
      "execution_count": 11,
      "outputs": [
        {
          "output_type": "display_data",
          "data": {
            "image/png": "[encoded data removed]",
            "text/plain": [
              "<Figure size 1584x720 with 2 Axes>"
            ]
          },
          "metadata": {
            "tags": []
          }
        }
      ]
    },
    {
      "cell_type": "markdown",
      "metadata": {
        "id": "3nmb2PDEAo2S",
        "colab_type": "text"
      },
      "source": [
        "We see that most of Text Sentences are less than 80 words and Summaries are less than 10 words."
      ]
    },
    {
      "cell_type": "code",
      "metadata": {
        "id": "wAIcfISpA9OD",
        "colab_type": "code",
        "colab": {}
      },
      "source": [
        "max_text, max_suma = 80,12"
      ],
      "execution_count": 0,
      "outputs": []
    },
    {
      "cell_type": "code",
      "metadata": {
        "id": "r0FUuFHdBQdF",
        "colab_type": "code",
        "colab": {}
      },
      "source": [
        "# Splitting dataset into train and dev\n",
        "from sklearn.model_selection import train_test_split\n",
        "x_tr, x_val, y_tr, y_val =  train_test_split(df['Text'], df['Summary'], test_size = 0.1, shuffle = True, random_state = 42)"
      ],
      "execution_count": 0,
      "outputs": []
    },
    {
      "cell_type": "markdown",
      "metadata": {
        "id": "6WbD-gAACKLz",
        "colab_type": "text"
      },
      "source": [
        "# Tokenization"
      ]
    },
    {
      "cell_type": "code",
      "metadata": {
        "id": "0UcnLPXCCfzP",
        "colab_type": "code",
        "colab": {}
      },
      "source": [
        "#During Training\n",
        "\n",
        "x_tokenizer, y_tokenizer = Tokenizer(), Tokenizer()\n",
        "\n",
        "x_tokenizer.fit_on_texts(x_tr.tolist())\n",
        "x_tr = x_tokenizer.texts_to_sequences(x_tr)\n",
        "x_val = x_tokenizer.texts_to_sequences(x_val)\n",
        "x_tr = pad_sequences(x_tr, maxlen = max_text, padding = 'post')\n",
        "x_val = pad_sequences(x_val, maxlen = max_text, padding = 'post')\n",
        "x_vocabsize = len(x_tokenizer.word_index) + 1                       # +1 for padding\n",
        "\n",
        "y_tokenizer.fit_on_texts(y_tr.tolist())\n",
        "y_tr = y_tokenizer.texts_to_sequences(y_tr)\n",
        "y_val = y_tokenizer.texts_to_sequences(y_val)\n",
        "y_tr = pad_sequences(y_tr, maxlen = max_suma, padding = 'post')\n",
        "y_val = pad_sequences(y_val, maxlen = max_suma, padding = 'post')\n",
        "y_vocabsize = len(y_tokenizer.word_index) + 1                       # +1 for padding"
      ],
      "execution_count": 0,
      "outputs": []
    },
    {
      "cell_type": "markdown",
      "metadata": {
        "id": "gmBDuCzrFmo3",
        "colab_type": "text"
      },
      "source": [
        "# Model Building"
      ]
    },
    {
      "cell_type": "markdown",
      "metadata": {
        "id": "HyYu1LtgrPLj",
        "colab_type": "text"
      },
      "source": [
        "# Training"
      ]
    },
    {
      "cell_type": "code",
      "metadata": {
        "id": "bGT4KhyEFpDK",
        "colab_type": "code",
        "outputId": "60b18432-cc81-4159-b8dc-c2bdd3f7ac23",
        "colab": {
          "base_uri": "https://localhost:8080/",
          "height": 629
        }
      },
      "source": [
        "dim = 250\n",
        "emb_dim = 450\n",
        "\n",
        "#Encoder\n",
        "encoder_inputs = Input(shape = (max_text,))\n",
        "enc_emb_layer = Embedding(x_vocabsize, emb_dim, trainable = True, name = 'x_emb')\n",
        "enc_emb_out = enc_emb_layer(encoder_inputs)\n",
        "\n",
        "#Bi-LSTM 1\n",
        "enc_bilstm1 = Bidirectional(LSTM(dim, return_sequences = True, return_state = True, dropout = 0.35, recurrent_dropout=0.3, name = 'enc_lstm1'))\n",
        "enc_lstm1_out,forw_h1,forw_c1, back_h1, back_c1 = enc_bilstm1(enc_emb_out)\n",
        "h1 = Concatenate()([forw_h1, back_h1])\n",
        "c1 = Concatenate()([forw_c1, back_c1])\n",
        "\n",
        "\n",
        "#Decoder\n",
        "\n",
        "decoder_inputs = Input(shape = (None,))\n",
        "dec_emb_layer = Embedding(y_vocabsize, emb_dim, trainable = True, name = 'y_emb')\n",
        "dec_emb_out = dec_emb_layer(decoder_inputs)\n",
        "\n",
        "#LSTM\n",
        "dec_lstm = LSTM(2*dim, return_sequences = True, return_state = True, dropout = 0.3, recurrent_dropout=0.3, name = 'dec_lstm')\n",
        "dec_out,h,c = dec_lstm(dec_emb_out, initial_state = [h1,c1])\n",
        "\n",
        "#Attention\n",
        "atten_layer = tf.keras.layers.Attention()\n",
        "atten_out = atten_layer([dec_out,enc_lstm1_out])\n",
        "concat_layer = Concatenate()\n",
        "dec_input = concat_layer([dec_out,atten_out])\n",
        "\n",
        "decoder_dense_layer = TimeDistributed(Dense(y_vocabsize, activation = 'softmax'))\n",
        "dec_out = decoder_dense_layer(dec_input)\n",
        "model = Model(inputs = [encoder_inputs, decoder_inputs], outputs = [dec_out])\n",
        "\n",
        "model.summary()\n"
      ],
      "execution_count": 0,
      "outputs": [
        {
          "output_type": "stream",
          "text": [
            "Model: \"model_3\"\n",
            "__________________________________________________________________________________________________\n",
            "Layer (type)                    Output Shape         Param #     Connected to                     \n",
            "==================================================================================================\n",
            "input_7 (InputLayer)            [(None, 80)]         0                                            \n",
            "__________________________________________________________________________________________________\n",
            "x_emb (Embedding)               (None, 80, 450)      28337400    input_7[0][0]                    \n",
            "__________________________________________________________________________________________________\n",
            "input_8 (InputLayer)            [(None, None)]       0                                            \n",
            "__________________________________________________________________________________________________\n",
            "bidirectional_3 (Bidirectional) [(None, 80, 500), (N 1402000     x_emb[0][0]                      \n",
            "__________________________________________________________________________________________________\n",
            "y_emb (Embedding)               (None, None, 450)    7680150     input_8[0][0]                    \n",
            "__________________________________________________________________________________________________\n",
            "concatenate_9 (Concatenate)     (None, 500)          0           bidirectional_3[0][1]            \n",
            "                                                                 bidirectional_3[0][3]            \n",
            "__________________________________________________________________________________________________\n",
            "concatenate_10 (Concatenate)    (None, 500)          0           bidirectional_3[0][2]            \n",
            "                                                                 bidirectional_3[0][4]            \n",
            "__________________________________________________________________________________________________\n",
            "dec_lstm (LSTM)                 [(None, None, 500),  1902000     y_emb[0][0]                      \n",
            "                                                                 concatenate_9[0][0]              \n",
            "                                                                 concatenate_10[0][0]             \n",
            "__________________________________________________________________________________________________\n",
            "attention_3 (Attention)         (None, None, 500)    0           dec_lstm[0][0]                   \n",
            "                                                                 bidirectional_3[0][0]            \n",
            "__________________________________________________________________________________________________\n",
            "concatenate_11 (Concatenate)    (None, None, 1000)   0           dec_lstm[0][0]                   \n",
            "                                                                 attention_3[0][0]                \n",
            "__________________________________________________________________________________________________\n",
            "time_distributed_3 (TimeDistrib (None, None, 17067)  17084067    concatenate_11[0][0]             \n",
            "==================================================================================================\n",
            "Total params: 56,405,617\n",
            "Trainable params: 56,405,617\n",
            "Non-trainable params: 0\n",
            "__________________________________________________________________________________________________\n"
          ],
          "name": "stdout"
        }
      ]
    },
    {
      "cell_type": "code",
      "metadata": {
        "id": "jWXUZBxYzXKE",
        "colab_type": "code",
        "colab": {}
      },
      "source": [
        "#Sparse categorical_crossentropy changes integers to onehot on the fly\n",
        "model.compile(optimizer = 'adam', loss = 'sparse_categorical_crossentropy')"
      ],
      "execution_count": 0,
      "outputs": []
    },
    {
      "cell_type": "code",
      "metadata": {
        "id": "hK65UGyl6Gpj",
        "colab_type": "code",
        "colab": {}
      },
      "source": [
        "es = EarlyStopping(monitor = 'val_loss', mode = 'min', patience = 2, verbose = 1)"
      ],
      "execution_count": 0,
      "outputs": []
    },
    {
      "cell_type": "code",
      "metadata": {
        "id": "aOhLQw45-vhQ",
        "colab_type": "code",
        "outputId": "153e8146-37ce-4b72-8031-a30d335022bf",
        "colab": {
          "base_uri": "https://localhost:8080/",
          "height": 221
        }
      },
      "source": [
        "history = model.fit(x=[x_tr, y_tr[:,:-1]], y=y_tr[:,1:] , batch_size=64, epochs = 50, callbacks = [es], validation_data = ([x_val,y_val[:,:-1]], y_val[:,1:]))"
      ],
      "execution_count": 0,
      "outputs": [
        {
          "output_type": "stream",
          "text": [
            "Train on 114753 samples, validate on 12751 samples\n",
            "Epoch 1/50\n",
            "114753/114753 [==============================] - 623s 5ms/sample - loss: 2.3463 - val_loss: 1.9561\n",
            "Epoch 2/50\n",
            "114753/114753 [==============================] - 620s 5ms/sample - loss: 1.8610 - val_loss: 1.7804\n",
            "Epoch 3/50\n",
            "114753/114753 [==============================] - 618s 5ms/sample - loss: 1.6213 - val_loss: 1.7311\n",
            "Epoch 4/50\n",
            "114753/114753 [==============================] - 618s 5ms/sample - loss: 1.4277 - val_loss: 1.7362\n",
            "Epoch 5/50\n",
            "114753/114753 [==============================] - 615s 5ms/sample - loss: 1.2614 - val_loss: 1.7663\n",
            "Epoch 00005: early stopping\n"
          ],
          "name": "stdout"
        }
      ]
    },
    {
      "cell_type": "code",
      "metadata": {
        "id": "sKhAaRhDX1M-",
        "colab_type": "code",
        "outputId": "fa7b433d-3b53-4a27-a16c-ef967168a3f5",
        "colab": {
          "base_uri": "https://localhost:8080/",
          "height": 595
        }
      },
      "source": [
        "plt.plot(history.history['loss'], label = 'Training Error')\n",
        "plt.plot(history.history['val_loss'], label = 'Validation Error')\n",
        "plt.legend()\n",
        "plt.show()"
      ],
      "execution_count": 0,
      "outputs": [
        {
          "output_type": "display_data",
          "data": {
            "image/png": "[encoded data removed]",
            "text/plain": [
              "<Figure size 1584x720 with 1 Axes>"
            ]
          },
          "metadata": {
            "tags": []
          }
        }
      ]
    },
    {
      "cell_type": "markdown",
      "metadata": {
        "id": "UTI-R44CY--d",
        "colab_type": "text"
      },
      "source": [
        "# Inference\n",
        "Now that the Network is Trained, we have to make inference model for generating summary of the given input to encoder"
      ]
    },
    {
      "cell_type": "code",
      "metadata": {
        "id": "KTsORzzjZq7h",
        "colab_type": "code",
        "colab": {}
      },
      "source": [
        "encoder_model = Model(inputs = [encoder_inputs], outputs = [enc_lstm1_out, h1, c1])\n",
        "\n",
        "#Decoder Model\n",
        "h_input = Input(shape = (2*dim,))\n",
        "c_input = Input(shape = (2*dim,))\n",
        "enc_outputs = Input(shape = (max_text, 2*dim))\n",
        "\n",
        "dec_emb_outputs = dec_emb_layer(decoder_inputs)\n",
        "dec_out,h,c = dec_lstm(dec_emb_outputs, initial_state = [h_input,c_input])\n",
        "atten_out = atten_layer([dec_out, enc_outputs])\n",
        "dense_input = concat_layer([dec_out, atten_out])\n",
        "dec_out = decoder_dense_layer(dense_input)\n",
        "\n",
        "decoder_model = Model(inputs = [decoder_inputs, h_input, c_input, enc_outputs], outputs = [dec_out,h,c])\n"
      ],
      "execution_count": 0,
      "outputs": []
    },
    {
      "cell_type": "code",
      "metadata": {
        "id": "SvPkYdeCMLi2",
        "colab_type": "code",
        "colab": {}
      },
      "source": [
        "#During Training\n",
        "\n",
        "# Saving Models\n",
        "# Saving train.h5\n",
        "# model.save(dir_path + 'train.h5')\n",
        "\n",
        "# Saving Encoder-Decoder Models\n",
        "# encoder_model.save(dir_path + 'encoder.h5') \n",
        "# decoder_model.save(dir_path + 'decoder.h5')\n",
        "\n",
        "# Saving Tokenizers\n",
        "import pickle\n",
        "# with open(dir_path + 'x_tokenizer.pickle', 'wb') as handle:\n",
        "#   pickle.dump(x_tokenizer, handle, protocol=pickle.HIGHEST_PROTOCOL)\n",
        "# with open(dir_path + 'y_tokenizer.pickle', 'wb') as handle:\n",
        "#   pickle.dump(y_tokenizer, handle, protocol=pickle.HIGHEST_PROTOCOL)\n",
        "\n",
        "#During Testing\n",
        "\n",
        "#Loading Tokenizers\n",
        "with open(dir_path + 'x_tokenizer.pickle', 'rb') as handle:\n",
        "  x_tokenizer = pickle.load(handle)\n",
        "with open(dir_path + 'y_tokenizer.pickle', 'rb') as handle:\n",
        "  y_tokenizer = pickle.load(handle)\n",
        "\n",
        "# Generating sequences using tokenizers. (Run only during testing time, else comment it out)\n",
        "x_tr = x_tokenizer.texts_to_sequences(x_tr)\n",
        "x_val = x_tokenizer.texts_to_sequences(x_val)\n",
        "x_tr = pad_sequences(x_tr, maxlen = max_text, padding = 'post')\n",
        "x_val = pad_sequences(x_val, maxlen = max_text, padding = 'post')\n",
        "x_vocabsize = len(x_tokenizer.word_index) + 1                    \n",
        "\n",
        "y_tr = y_tokenizer.texts_to_sequences(y_tr)\n",
        "y_val = y_tokenizer.texts_to_sequences(y_val)\n",
        "y_tr = pad_sequences(y_tr, maxlen = max_suma, padding = 'post')\n",
        "y_val = pad_sequences(y_val, maxlen = max_suma, padding = 'post')\n",
        "y_vocabsize = len(y_tokenizer.word_index) + 1             \n",
        "\n",
        "#Loading h5 models\n",
        "from tensorflow.keras.models import load_model\n",
        "model = load_model(dir_path + 'train.h5')\n",
        "encoder_model = load_model(dir_path + 'encoder.h5')\n",
        "decoder_model = load_model(dir_path + 'decoder.h5')"
      ],
      "execution_count": 0,
      "outputs": []
    },
    {
      "cell_type": "code",
      "metadata": {
        "id": "-I3TZNCG5trF",
        "colab_type": "code",
        "colab": {}
      },
      "source": [
        "#Dictionaries\n",
        "y_word_to_ind = y_tokenizer.word_index\n",
        "y_ind_to_word = y_tokenizer.index_word\n",
        "x_ind_to_word = x_tokenizer.index_word\n",
        "x_word_to_ind = x_tokenizer.word_index\n",
        "\n",
        "def summarize(sequence):\n",
        "  enc_outputs, h, c = encoder_model.predict(sequence)\n",
        "\n",
        "  out_seq, pred, suma_size = [],'start',0\n",
        "\n",
        "  while suma_size <= max_suma and pred != 'end':\n",
        "    dec_out, h, c = decoder_model.predict([np.array([y_word_to_ind[pred]]).reshape(1,1), h, c, enc_outputs])\n",
        "    sampled_ind = np.argmax(dec_out[0,-1,:])\n",
        "    pred = y_ind_to_word[sampled_ind]\n",
        "    if pred != 'end':\n",
        "      out_seq.append(pred)\n",
        "    suma_size += 1\n",
        "  summary = \" \".join(out_seq)\n",
        "  return summary\n"
      ],
      "execution_count": 0,
      "outputs": []
    },
    {
      "cell_type": "code",
      "metadata": {
        "id": "EmrfRzUL-xXr",
        "colab_type": "code",
        "colab": {}
      },
      "source": [
        "def seq_to_text(seq):\n",
        "  text = ''\n",
        "  for x in seq:\n",
        "    if x != 0:\n",
        "      text += \" \" + x_ind_to_word[x]\n",
        "  return text\n",
        "\n",
        "def seq_to_summary(seq):\n",
        "  summary = ''\n",
        "  for x in seq:\n",
        "    if x!=0 and y_ind_to_word[x] != 'start' and y_ind_to_word[x] != 'end':\n",
        "      summary += \" \" + y_ind_to_word[x]\n",
        "  return summary"
      ],
      "execution_count": 0,
      "outputs": []
    },
    {
      "cell_type": "code",
      "metadata": {
        "id": "dcJUTtGQGgry",
        "colab_type": "code",
        "outputId": "7b80b288-b6b8-4540-8278-c8998dd25b6e",
        "colab": {
          "base_uri": "https://localhost:8080/",
          "height": 1000
        }
      },
      "source": [
        "for i in range(1500,1520):\n",
        "  print('Text : ', seq_to_text(x_val[i]))\n",
        "  print('Original Summary : ', seq_to_summary(y_val[i]))\n",
        "  print('Predicted Summary : ', summarize(x_val[i].reshape(1,max_text)))\n",
        "  print('\\n')"
      ],
      "execution_count": 53,
      "outputs": [
        {
          "output_type": "stream",
          "text": [
            "Text :   aweful super hard tasteless bought thinking would fun kids none wanted\n",
            "Original Summary :   aweful\n",
            "Predicted Summary :  not what i expected\n",
            "\n",
            "\n",
            "Text :   dear friend mine feeling sick want eat anything ate liked well maybe loved would know since express directly appreciative shared also made another time friend mine borderline could actually eat loved thrilled found something else gluten free complimented always finding great tasting gluten free food anyone walk life dietary problems eat enjoy best part mix match seasoning add items wish cook highly recommend honestly would hands buy next chance get whole package roughly makes adult servings depending upon big portions\n",
            "Original Summary :   better than yo mama traditional pasta\n",
            "Predicted Summary :  i love this stuff\n",
            "\n",
            "\n",
            "Text :   wonderful gift wife pregnant first child wanted get something make feel special enjoyed treats especially chocolates would definitely recommend gift friend\n",
            "Original Summary :   great gift for my wife\n",
            "Predicted Summary :  great gift\n",
            "\n",
            "\n",
            "Text :   long story short milk protein allergy moved enfamil brand soy powder took week refused together finally found ready eat similac soy saved bottles perfect open formula make bottle measurement always right formula always room temp need warm originally tried soy powder would take either size great older babies size great newborns unfortunately measurement child drinks either need use bottles half bottle giving star boast adding nipple bottle feeding come said nipples buy separately overall cannot live without formula highly recommend\n",
            "Original Summary :   the only formula my son will drink\n",
            "Predicted Summary :  great for a great price\n",
            "\n",
            "\n",
            "Text :   definately bit pricy amount get area hard find aromatic saffron iran one purchased mother content thanks\n",
            "Original Summary :   great\n",
            "Predicted Summary :  good stuff\n",
            "\n",
            "\n",
            "Text :   pup dingo loved forced brought first bag dingo dental bones month ago stitch loved loved actually spent good minutes hours dingo dental bone really like red dye chicken meat overwhelming actually crack piece chicken still see non dyed chicken ordered second bag dingo original red package red dye strong whole piece chicken blood red even dyed rawhide pinkish red kind ridiculous dye something dog smell necessary long tastes delicious anyhow search something else hopefully better alternative dingos least made china\n",
            "Original Summary :   too much red dye\n",
            "Predicted Summary :  my dog loved them\n",
            "\n",
            "\n",
            "Text :   returned made dogs sick used eat time guess stomachs could handle got older\n",
            "Original Summary :   used to like them\n",
            "Predicted Summary :  made my dog sick\n",
            "\n",
            "\n",
            "Text :   amazon great product good kids even though little bit sugar needed\n",
            "Original Summary :   as expected\n",
            "Predicted Summary :  great product\n",
            "\n",
            "\n",
            "Text :   taste great gave terrible migraine msg sensitive beware also msg addition usually way fake true flavor\n",
            "Original Summary :   contains msg\n",
            "Predicted Summary :  tastes good but has msg\n",
            "\n",
            "\n",
            "Text :   roasting coffee beans ten years two years ago switched decaf beans best tasting best priced found know another reviewer complained flavorless could disagree make cup coffee rivals anything could buy coffee house sure roast past crack let beans degas hours roast taste like made cup coffee grass clippings roast right make delicious cup coffee\n",
            "Original Summary :   great beans can make a great cup of coffee\n",
            "Predicted Summary :  the best decaf i have ever had\n",
            "\n",
            "\n",
            "Text :   thought regular cappuccino cups got saw hazelnut thought boy much surprise tasty always hazelnut fan wow creamy flavorful order need stock cups pleased\n",
            "Original Summary :   i goofed but it worked out\n",
            "Predicted Summary :  great cappuccino\n",
            "\n",
            "\n",
            "Text :   chili good family loves chili mildly seasoned spicy also use starter add favorite chili beans want thick add small tomato sauce farther less expense tastes great makes easy meal goes great cornbread\n",
            "Original Summary :   good chili\n",
            "Predicted Summary :  great chili\n",
            "\n",
            "\n",
            "Text :   buying plum baby organics food pouches thought could try making homemade baby food give baby different combos food pouches store brands offer every machine returned finally found brezza super easy use great steam option easy clean could happier product make fun food combos also usually buy products amazon however time bought babies running special bought food maker got spatula cutting board attachment free\n",
            "Original Summary :   feel like a real chef\n",
            "Predicted Summary :  love it\n",
            "\n",
            "\n",
            "Text :   tried fruit protein powder taste little healthy however add protein powder berries usually blueberries delicious hint chocolate flavor great way sneak servings veggies easy get rush daughter says smells like chocolate even though flavor pretty well hidden natural cocoa comes aroma\n",
            "Original Summary :   great with blueberries\n",
            "Predicted Summary :  good but not great\n",
            "\n",
            "\n",
            "Text :   coffee decent hazelnut flavor weak bad brew using small medium size watered large size switched new brand called san francisco bay french roast decaf\n",
            "Original Summary :   weak\n",
            "Predicted Summary :  weak coffee\n",
            "\n",
            "\n",
            "Text :   prefer two textured gummi regular gummi haribo among best frogs addictive current price combined free shipping tax make nice buy drawback buying bulk tend eat aslo big favorite kids would also give stars\n",
            "Original Summary :   great gummi\n",
            "Predicted Summary :  the best gummis\n",
            "\n",
            "\n",
            "Text :   one best dog food gotten yet dog likes good vet said good brand also cost little eat best dog\n",
            "Original Summary :   good chow\n",
            "Predicted Summary :  my dog loves this\n",
            "\n",
            "\n",
            "Text :   green mountain coffee delicious prices amazon cannot beat offer get one box discounted rate makes much convenient\n",
            "Original Summary :   great coffee at a great price\n",
            "Predicted Summary :  great coffee\n",
            "\n",
            "\n",
            "Text :   give coffee five stars like really bold bitterness coffee coffee super flavorful like coffee medium roast another flavor coffee wake looking\n",
            "Original Summary :   but wait there is more\n",
            "Predicted Summary :  bold and flavorful\n",
            "\n",
            "\n",
            "Text :   got pod try senseo brewer love french vanilla could find senseo paris french vanilla works great senseo brewer quality coffee way better glad thought give try want try pods available brand\n",
            "Original Summary :   works great in my senseo pod brewer\n",
            "Predicted Summary :  senseo french vanilla coffee pods\n",
            "\n",
            "\n"
          ],
          "name": "stdout"
        }
      ]
    },
    {
      "cell_type": "code",
      "metadata": {
        "id": "bGb1iJ8FHzPW",
        "colab_type": "code",
        "colab": {}
      },
      "source": [
        ""
      ],
      "execution_count": 0,
      "outputs": []
    },
    {
      "cell_type": "markdown",
      "metadata": {
        "id": "ihznNQeETdaa",
        "colab_type": "text"
      },
      "source": [
        "# Testing"
      ]
    },
    {
      "cell_type": "code",
      "metadata": {
        "id": "7Ap2vRjJTrDG",
        "colab_type": "code",
        "colab": {}
      },
      "source": [
        "def get_summary(text):\n",
        "  cleaned = clean_text(text)\n",
        "  seq = x_tokenizer.texts_to_sequences([cleaned])\n",
        "  seq = pad_sequences(seq, maxlen = max_text, padding = 'post')\n",
        "  summary = summarize(np.array(seq).reshape(1,max_text))\n",
        "  return summary"
      ],
      "execution_count": 0,
      "outputs": []
    },
    {
      "cell_type": "code",
      "metadata": {
        "id": "y96D04D76-62",
        "colab_type": "code",
        "colab": {
          "base_uri": "https://localhost:8080/",
          "height": 34
        },
        "outputId": "abaecbcc-ba56-45b4-dee3-7a1d218ef2a3"
      },
      "source": [
        "print(get_summary('The place is very conveniently located (on the highway ) with ample parking space. The food at both the meals was tasty and definitely worth the price'))"
      ],
      "execution_count": 38,
      "outputs": [
        {
          "output_type": "stream",
          "text": [
            "great snack\n"
          ],
          "name": "stdout"
        }
      ]
    },
    {
      "cell_type": "code",
      "metadata": {
        "id": "zPLbYwYTEtlC",
        "colab_type": "code",
        "colab": {
          "base_uri": "https://localhost:8080/",
          "height": 34
        },
        "outputId": "78f39c37-d62b-4be8-be5a-b8c28f35f05b"
      },
      "source": [
        "print(get_summary(\"I and my friend had dinner here one of the nights we were in Kalpetta. The ambiance was good and the food recommendations were great. We had a traditional Arabian rice and chicken preparation, Kuzhi Manthi. It was our first experience having this dish, and although a bit dry, it tasted great. Would recommend this place that's easily noticed from a vehicle and has ample parking\"))"
      ],
      "execution_count": 40,
      "outputs": [
        {
          "output_type": "stream",
          "text": [
            "great for a quick meal\n"
          ],
          "name": "stdout"
        }
      ]
    },
    {
      "cell_type": "code",
      "metadata": {
        "id": "6UCjFHa2Hqkr",
        "colab_type": "code",
        "colab": {
          "base_uri": "https://localhost:8080/",
          "height": 34
        },
        "outputId": "6ff706e5-1730-41e2-9d32-888808060fce"
      },
      "source": [
        "print(get_summary(\"Awesome place and good hospitality. Staffs are very cooperative. Very easy to enter from Highway. Foods are yummy. I love to visit here again with my family. Had a nice time with family.\"))"
      ],
      "execution_count": 41,
      "outputs": [
        {
          "output_type": "stream",
          "text": [
            "yummy\n"
          ],
          "name": "stdout"
        }
      ]
    },
    {
      "cell_type": "code",
      "metadata": {
        "id": "pHuTXFGVH5Wm",
        "colab_type": "code",
        "colab": {
          "base_uri": "https://localhost:8080/",
          "height": 34
        },
        "outputId": "90c6c159-2121-423e-c4ae-10301e5b3218"
      },
      "source": [
        "print(get_summary(\"Very expensive compared to the pricing and portions served. So avoid this dish. Chicken biriyani was OK but portion served is too less for ₹200. I hope the management comes to senses.\"))"
      ],
      "execution_count": 43,
      "outputs": [
        {
          "output_type": "stream",
          "text": [
            "too expensive\n"
          ],
          "name": "stdout"
        }
      ]
    },
    {
      "cell_type": "code",
      "metadata": {
        "id": "XiZcL0-UITFx",
        "colab_type": "code",
        "colab": {
          "base_uri": "https://localhost:8080/",
          "height": 34
        },
        "outputId": "b4d02b82-dd7f-4b40-b732-f9c8b689732a"
      },
      "source": [
        "print(get_summary(\"Ordered from here before also. Was very happy earlier. Recently they have increased the prices by about 50%, reduced quantity, and quality has also gone down somewhat. No longer value for money great food. Disappointed.\"))"
      ],
      "execution_count": 46,
      "outputs": [
        {
          "output_type": "stream",
          "text": [
            "good quality but dusty\n"
          ],
          "name": "stdout"
        }
      ]
    },
    {
      "cell_type": "code",
      "metadata": {
        "id": "H2mgAV8zJH_V",
        "colab_type": "code",
        "colab": {
          "base_uri": "https://localhost:8080/",
          "height": 34
        },
        "outputId": "99186f77-cfc0-4475-b827-c8e27fff3bed"
      },
      "source": [
        "print(get_summary(\"Really bad and a total waste of money....ordered a quinoa salad and had to scatter through the lettuce which was in abundance to find quinoa.....Bland peas and raw beans very disappointing and bad experience ......never ordering again\"))"
      ],
      "execution_count": 47,
      "outputs": [
        {
          "output_type": "stream",
          "text": [
            "not what i expected\n"
          ],
          "name": "stdout"
        }
      ]
    },
    {
      "cell_type": "code",
      "metadata": {
        "id": "-L2S-8COJtxk",
        "colab_type": "code",
        "colab": {
          "base_uri": "https://localhost:8080/",
          "height": 34
        },
        "outputId": "db0e6ea1-51ae-4ceb-f24d-866768fd7088"
      },
      "source": [
        "print(get_summary(\"The food quality is very very bad had order some soup it was so terrible could eat more than a spoonful. They need to change the chef at the earliest. The service and ambiance is okay.\"))"
      ],
      "execution_count": 48,
      "outputs": [
        {
          "output_type": "stream",
          "text": [
            "terrible\n"
          ],
          "name": "stdout"
        }
      ]
    },
    {
      "cell_type": "code",
      "metadata": {
        "id": "a40_9ylOJ7fG",
        "colab_type": "code",
        "colab": {
          "base_uri": "https://localhost:8080/",
          "height": 34
        },
        "outputId": "5545ab26-ef07-495e-da1c-95179bd37fbe"
      },
      "source": [
        "print(get_summary(\"Poor quality service.We had to wait a good 30 minutes before someone noticed us and the restaurant was practically empty at that Time . The food was mediocre too.Never recommending this to anybody.\"))"
      ],
      "execution_count": 51,
      "outputs": [
        {
          "output_type": "stream",
          "text": [
            "poor quality\n"
          ],
          "name": "stdout"
        }
      ]
    },
    {
      "cell_type": "code",
      "metadata": {
        "id": "UAhZr8--KH0R",
        "colab_type": "code",
        "colab": {
          "base_uri": "https://localhost:8080/",
          "height": 34
        },
        "outputId": "11eedce0-2b23-48c3-e1e1-499043948e4b"
      },
      "source": [
        "print(get_summary(\"I had lunch with some of my colleagues at Echo on Day 1. I had the wedge salad - it was delicious. On Night 2, I enjoyed a drink at the bar. I had a Margarita. The service was excellent.\"))"
      ],
      "execution_count": 52,
      "outputs": [
        {
          "output_type": "stream",
          "text": [
            "a great treat\n"
          ],
          "name": "stdout"
        }
      ]
    },
    {
      "cell_type": "markdown",
      "metadata": {
        "id": "qDQbFKFgT_D6",
        "colab_type": "text"
      },
      "source": [
        "In this Notebook, we Used Amazon Food Reviews dataset to make Abstractive Text Summarization, which takes Customer Reviews as Input and outputs meaningful summary of the depicted context in Review..\n",
        "\n",
        "Note :=>  Though we are getting Meaningful sentences, the model has some flaws and few improvements and further tuning can be done if one has good GPU to improve the accuracy of the model."
      ]
    },
    {
      "cell_type": "code",
      "metadata": {
        "id": "fGNqKdqZXkT_",
        "colab_type": "code",
        "colab": {}
      },
      "source": [
        ""
      ],
      "execution_count": 0,
      "outputs": []
    }
  ]
}